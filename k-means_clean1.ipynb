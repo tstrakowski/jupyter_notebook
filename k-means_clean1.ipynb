{
 "cells": [
  {
   "cell_type": "markdown",
   "id": "09e9d3e5-2365-444e-9fa2-59c55184e6ff",
   "metadata": {},
   "source": [
    "<H1>Import libraries</H1>"
   ]
  },
  {
   "cell_type": "code",
   "execution_count": null,
   "id": "98debf3e-d159-4596-aa52-3558768884e7",
   "metadata": {},
   "outputs": [],
   "source": [
    "%matplotlib inline\n",
    "import matplotlib.pyplot as plt\n",
    "import matplotlib.colors as colors\n",
    "import seaborn as sns; sns.set()  # for plot styling\n",
    "import numpy as np\n",
    "import pandas as pd\n",
    "from sklearn.datasets import make_blobs\n",
    "from sklearn.model_selection import train_test_split\n",
    "from sklearn import preprocessing\n",
    "from sklearn.cluster import KMeans\n",
    "from sklearn.datasets import load_iris\n",
    "from sklearn.metrics import calinski_harabasz_score\n",
    "from sklearn.metrics import silhouette_score\n"
   ]
  },
  {
   "cell_type": "code",
   "execution_count": null,
   "id": "a2fcd53d-a9f9-49ae-a6d0-6a9f692d28e1",
   "metadata": {},
   "outputs": [],
   "source": []
  },
  {
   "cell_type": "code",
   "execution_count": null,
   "id": "e2526b97-2233-4e37-840a-5f8c0175a4d0",
   "metadata": {},
   "outputs": [],
   "source": []
  },
  {
   "cell_type": "code",
   "execution_count": null,
   "id": "b5201cfa-fd71-4e79-b9e1-bf00c4c2eba6",
   "metadata": {},
   "outputs": [],
   "source": []
  },
  {
   "cell_type": "code",
   "execution_count": null,
   "id": "b645e937-85d4-4db6-a1ec-5eeccbc74100",
   "metadata": {},
   "outputs": [],
   "source": []
  },
  {
   "cell_type": "code",
   "execution_count": null,
   "id": "9e2fe4ee-9ee6-43de-9561-e1df3877de3a",
   "metadata": {},
   "outputs": [],
   "source": []
  },
  {
   "cell_type": "code",
   "execution_count": null,
   "id": "6e746e64-b0a0-47ed-8089-dd43c4d8fa35",
   "metadata": {},
   "outputs": [],
   "source": []
  },
  {
   "cell_type": "code",
   "execution_count": null,
   "id": "e588c716-31fb-476e-8301-3a9f053dd996",
   "metadata": {},
   "outputs": [],
   "source": []
  },
  {
   "cell_type": "code",
   "execution_count": null,
   "id": "d4fa24c5-24cb-41ab-9e13-b2e98dfe852b",
   "metadata": {},
   "outputs": [],
   "source": []
  },
  {
   "cell_type": "markdown",
   "id": "87bbbea0-49d6-4c66-ae65-ab2b489e3ee2",
   "metadata": {},
   "source": [
    "<H2>generate data set for custering</H2> "
   ]
  },
  {
   "cell_type": "code",
   "execution_count": null,
   "id": "4cdf5bc8-ade7-48b9-8087-b6496286ae50",
   "metadata": {},
   "outputs": [],
   "source": [
    "number_sets_to_generate = 4\n",
    "\n",
    "X, y = make_blobs(centers=number_sets_to_generate, cluster_std=0.5, random_state=0)\n",
    "generated_2_sets = pd.DataFrame({'x_axis': X[:, 0], 'y_axis': X[:, 1],'set_number':y})\n",
    "display( generated_2_sets.head( 10 ) )\n",
    "cmap4 = colors.ListedColormap([\"darkorange\", \"gold\", \"lawngreen\", \"lightseagreen\", \"red\", \"blue\",\"magenta\", \"black\", \"pink\", \"brown\"])\n",
    "plt.scatter(generated_2_sets['x_axis'], generated_2_sets['y_axis'], c=generated_2_sets['set_number'],cmap=cmap4)\n",
    "plt.title(\"Generated data set for clustering\")\n",
    "plt.show()\n",
    "\n"
   ]
  },
  {
   "cell_type": "markdown",
   "id": "acd32b64-cc4e-4a05-b37a-026844bab46e",
   "metadata": {},
   "source": [
    "<H2>split on train and test set</H2>"
   ]
  },
  {
   "cell_type": "code",
   "execution_count": null,
   "id": "8ac97c98-4c45-412c-bf9a-b2d8654bb9bd",
   "metadata": {},
   "outputs": [],
   "source": [
    "X_train, X_test, y_train, y_test = train_test_split(generated_2_sets[['x_axis','y_axis']], generated_2_sets[['set_number']], test_size=0.33, random_state=0)"
   ]
  },
  {
   "cell_type": "markdown",
   "id": "c98d0047-3957-4a50-aac5-45cdf4647be5",
   "metadata": {},
   "source": [
    "<H2>run kmeans algorithm</H2>"
   ]
  },
  {
   "cell_type": "code",
   "execution_count": null,
   "id": "45a246aa-0e7d-4398-ade2-68a4955021cb",
   "metadata": {},
   "outputs": [],
   "source": [
    "kmeans = KMeans(n_clusters = number_sets_to_generate, random_state = 0, n_init='auto')\n",
    "kmeans.fit(X_train)"
   ]
  },
  {
   "cell_type": "markdown",
   "id": "1a071476-2fce-4386-8396-242dc4c8b9a0",
   "metadata": {},
   "source": [
    "<H2>Plot the results</H2>"
   ]
  },
  {
   "cell_type": "code",
   "execution_count": null,
   "id": "21c119c8-47e2-4d7e-9d1b-82bb6e428450",
   "metadata": {},
   "outputs": [],
   "source": [
    "clusters_num = range(number_sets_to_generate,2*number_sets_to_generate,1)\n",
    "\n",
    "clusters = pd.DataFrame({'x_axis':X_train['x_axis'],'y_axis':X_train['y_axis'],'set_number':kmeans.labels_})\n",
    "center_sets = pd.DataFrame({'x_axis': kmeans.cluster_centers_[:, 0], 'y_axis': kmeans.cluster_centers_[:, 1],'set_number':clusters_num})\n",
    "\n",
    "df_res = pd.concat( [clusters, center_sets] )\n",
    "\n",
    "score = silhouette_score(clusters[['x_axis','y_axis']], kmeans.labels_ )\n",
    "\n",
    "plt.scatter( df_res['x_axis'], df_res['y_axis'], c=df_res['set_number'],cmap=cmap4)\n",
    "plt.title(\"Clustering output when we assume 4 clusters Silhouette score = \" + str( score ) ) \n",
    "plt.show()"
   ]
  },
  {
   "cell_type": "markdown",
   "id": "7e39ea86-78be-4834-9a1d-88d332ee0935",
   "metadata": {},
   "source": [
    "<H2>For 3 clusters</H2>"
   ]
  },
  {
   "cell_type": "code",
   "execution_count": null,
   "id": "89ffb2f8-db2e-47f0-b278-a1c7def936d6",
   "metadata": {},
   "outputs": [],
   "source": [
    "number_clusters = 3\n",
    "kmeans_3 = KMeans(n_clusters = number_clusters, random_state = 0, n_init='auto')\n",
    "kmeans_3.fit(X_train)\n",
    "\n",
    "clusters_num = range(number_sets_to_generate,number_sets_to_generate+number_clusters,1)\n",
    "\n",
    "clusters = pd.DataFrame({'x_axis':X_train['x_axis'],'y_axis':X_train['y_axis'],'set_number':kmeans_3.labels_})\n",
    "center_sets = pd.DataFrame({'x_axis': kmeans_3.cluster_centers_[:, 0], 'y_axis': kmeans_3.cluster_centers_[:, 1],'set_number':clusters_num})\n",
    "\n",
    "df_res = pd.concat( [clusters, center_sets] )\n",
    "\n",
    "plt.scatter( df_res['x_axis'], df_res['y_axis'], c=df_res['set_number'],cmap=cmap4)\n",
    "plt.title(\"Clustering output when we assume 3 clusters\")\n",
    "plt.show()\n"
   ]
  },
  {
   "cell_type": "markdown",
   "id": "dfcab2cf-ce74-49fd-b1f0-5c88f5c23fc0",
   "metadata": {},
   "source": [
    "<H2>For 5 clusters</H2>"
   ]
  },
  {
   "cell_type": "code",
   "execution_count": null,
   "id": "53782d11-e2eb-41d0-a8f3-caf6b7caf649",
   "metadata": {},
   "outputs": [],
   "source": [
    "number_clusters = 5\n",
    "kmeans_5 = KMeans(n_clusters = number_clusters, random_state = 0, n_init='auto')\n",
    "kmeans_5.fit(X_train)\n",
    "\n",
    "clusters_num = range(number_sets_to_generate,number_sets_to_generate+number_clusters,1)\n",
    "\n",
    "clusters = pd.DataFrame({'x_axis':X_train['x_axis'],'y_axis':X_train['y_axis'],'set_number':kmeans_5.labels_})\n",
    "center_sets = pd.DataFrame({'x_axis': kmeans_5.cluster_centers_[:, 0], 'y_axis': kmeans_5.cluster_centers_[:, 1],'set_number':clusters_num})\n",
    "\n",
    "df_res = pd.concat( [clusters, center_sets] )\n",
    "\n",
    "plt.scatter( df_res['x_axis'], df_res['y_axis'], c=df_res['set_number'],cmap=cmap4)\n",
    "plt.title(\"Clustering output when we assume 5 clusters\")\n",
    "plt.show()"
   ]
  },
  {
   "cell_type": "markdown",
   "id": "88733600-e0ac-42c7-8e84-3838a37fa7fa",
   "metadata": {},
   "source": [
    "<H2>For 6 clusters</H2>"
   ]
  },
  {
   "cell_type": "code",
   "execution_count": null,
   "id": "2e9fd73a-d358-432e-a9c6-0102b56cf4b5",
   "metadata": {},
   "outputs": [],
   "source": [
    "number_clusters = 6\n",
    "kmeans_6 = KMeans(n_clusters = number_clusters, random_state = 0, n_init='auto')\n",
    "kmeans_6.fit(X_train)\n",
    "\n",
    "clusters_num = range(number_sets_to_generate,number_sets_to_generate+number_clusters,1)\n",
    "\n",
    "clusters = pd.DataFrame({'x_axis':X_train['x_axis'],'y_axis':X_train['y_axis'],'set_number':kmeans_6.labels_})\n",
    "center_sets = pd.DataFrame({'x_axis': kmeans_6.cluster_centers_[:, 0], 'y_axis': kmeans_6.cluster_centers_[:, 1],'set_number':clusters_num})\n",
    "\n",
    "df_res = pd.concat( [clusters, center_sets] )\n",
    "\n",
    "plt.scatter( df_res['x_axis'], df_res['y_axis'], c=df_res['set_number'],cmap=cmap4)\n",
    "plt.title(\"Three normally-distributed clusters\")\n",
    "plt.show()"
   ]
  },
  {
   "cell_type": "markdown",
   "id": "a958203e-669b-4e23-8b09-e4127aca49c9",
   "metadata": {},
   "source": [
    "<H2>How to get proper number of clusters?</H2>"
   ]
  },
  {
   "cell_type": "markdown",
   "id": "cf9a0cac-cced-434c-a09b-0a4c297895e3",
   "metadata": {},
   "source": [
    "<H2>Calinski Harabasz score</H2>"
   ]
  },
  {
   "cell_type": "code",
   "execution_count": null,
   "id": "cd9e6eda-51a9-4c35-be1d-6a7d48e95464",
   "metadata": {},
   "outputs": [],
   "source": [
    "ch_index = calinski_harabasz_score(X_train, kmeans.labels_)\n",
    "ch_index_3 = calinski_harabasz_score(X_train, kmeans_3.labels_)\n",
    "ch_index_5 = calinski_harabasz_score(X_train, kmeans_5.labels_)\n",
    "ch_index_6 = calinski_harabasz_score(X_train, kmeans_6.labels_)\n",
    "\n",
    "calinski_score = pd.DataFrame({'clusters_number':[3,4,5,6],'calinski_metrix':[ch_index_3,ch_index,ch_index_5,ch_index_6],})\n",
    "\n",
    "display( calinski_score )\n",
    "\n",
    "plt.scatter( calinski_score['clusters_number'], calinski_score['calinski_metrix'], marker='^', ls='--', c='b', lw=2 )\n",
    "plt.plot(calinski_score['clusters_number'], calinski_score['calinski_metrix'])\n",
    "plt.title(\"Calinski Harabasz score\")\n",
    "plt.show()\n",
    "\n"
   ]
  },
  {
   "cell_type": "markdown",
   "id": "7f208725-3b79-4e83-a55e-1d428e036e4a",
   "metadata": {},
   "source": [
    "<H2>lt's normalize variables</H2>"
   ]
  },
  {
   "cell_type": "code",
   "execution_count": null,
   "id": "9f5d665e-8f1f-4030-a0f9-f297314b1748",
   "metadata": {},
   "outputs": [],
   "source": [
    "X_train_norm = preprocessing.normalize(X_train)\n",
    "X_test_norm = preprocessing.normalize(X_test)\n",
    "\n",
    "kmeans_norm = KMeans(n_clusters = 4, random_state = 0, n_init='auto')\n",
    "kmeans_norm.fit(X_train_norm)\n"
   ]
  },
  {
   "cell_type": "code",
   "execution_count": null,
   "id": "f65cdae0-0ed1-4b45-83e5-67efda7a6fb9",
   "metadata": {},
   "outputs": [],
   "source": [
    "#clusters_num = [3,4,5]\n",
    "clusters_num = [4,5,6,7]\n",
    "\n",
    "clusters = pd.DataFrame({'x_axis':X_train_norm[:, 0],'y_axis':X_train_norm[:, 1],'set_number':kmeans_norm.labels_})\n",
    "center_sets = pd.DataFrame({'x_axis': kmeans_norm.cluster_centers_[:, 0], 'y_axis': kmeans_norm.cluster_centers_[:, 1],'set_number':clusters_num})\n",
    "\n",
    "df_res = pd.concat( [clusters, center_sets] )\n",
    "\n",
    "plt.scatter( df_res['x_axis'], df_res['y_axis'], c=df_res['set_number'],cmap=cmap4)\n",
    "plt.title(\"Three normally-distributed clusters\")\n",
    "plt.show()\n",
    "\n",
    "\n",
    "\n"
   ]
  },
  {
   "cell_type": "code",
   "execution_count": null,
   "id": "a817a3c7-c35d-4916-986d-fad5838e0c31",
   "metadata": {},
   "outputs": [],
   "source": []
  },
  {
   "cell_type": "code",
   "execution_count": null,
   "id": "0378dc52-238d-440a-a596-c784a2e8e340",
   "metadata": {},
   "outputs": [],
   "source": [
    "from sklearn.datasets import load_iris\n",
    "from sklearn.cluster import KMeans\n",
    "from sklearn.metrics import calinski_harabasz_score\n",
    "import matplotlib.pyplot as plt"
   ]
  },
  {
   "cell_type": "code",
   "execution_count": null,
   "id": "5934feda-3e8c-4cd2-acde-34ba0b50e217",
   "metadata": {},
   "outputs": [],
   "source": [
    "iris = load_iris()\n",
    "X = iris.data[:, :4]"
   ]
  },
  {
   "cell_type": "code",
   "execution_count": null,
   "id": "1e9882c2-e430-4878-9702-085b677486fc",
   "metadata": {},
   "outputs": [],
   "source": [
    "number_clusters = 2\n",
    "kmeans_ir_2 = KMeans(n_clusters=number_clusters, random_state=30)\n",
    "kmeans_ir_2.fit_predict(X)\n",
    "ch_index_ir_2 = calinski_harabasz_score(X, kmeans_ir_2.labels_)\n",
    "\n",
    "number_clusters = 3\n",
    "kmeans_ir_3 = KMeans(n_clusters=number_clusters, random_state=30)\n",
    "kmeans_ir_3.fit_predict(X)\n",
    "ch_index_ir_3 = calinski_harabasz_score(X, kmeans_ir_3.labels_)\n",
    "\n",
    "number_clusters = 4\n",
    "kmeans_ir_4 = KMeans(n_clusters=number_clusters, random_state=30)\n",
    "kmeans_ir_4.fit_predict(X)\n",
    "ch_index_ir_4 = calinski_harabasz_score(X, kmeans_ir_4.labels_)\n",
    "\n",
    "number_clusters = 5\n",
    "kmeans_ir_5 = KMeans(n_clusters=number_clusters, random_state=30)\n",
    "kmeans_ir_5.fit_predict(X)\n",
    "ch_index_ir_5 = calinski_harabasz_score(X, kmeans_ir_5.labels_)\n",
    "\n",
    "number_clusters = 6\n",
    "kmeans_ir_6 = KMeans(n_clusters=number_clusters, random_state=30)\n",
    "kmeans_ir_6.fit_predict(X)\n",
    "ch_index_ir_6 = calinski_harabasz_score(X, kmeans_ir_6.labels_)\n",
    "\n",
    "calinski_score_ir = pd.DataFrame({'clusters_number':[2,3,4,5,6],'calinski_metrix':[ch_index_ir_2,ch_index_ir_3,ch_index_ir_4,ch_index_ir_5,ch_index_ir_6]})\n",
    "\n",
    "display( calinski_score_ir )\n",
    "\n",
    "plt.scatter( calinski_score_ir['clusters_number'], calinski_score_ir['calinski_metrix'], marker='^', ls='--', c='b', lw=2 )\n",
    "plt.plot(calinski_score_ir['clusters_number'], calinski_score_ir['calinski_metrix'])\n",
    "plt.title(\"Calinski Harabasz score\")\n",
    "plt.show()\n",
    "\n"
   ]
  },
  {
   "cell_type": "code",
   "execution_count": null,
   "id": "b5457fff-8699-475b-853f-8491257c75dd",
   "metadata": {},
   "outputs": [],
   "source": [
    "df_iris = pd.DataFrame({'sepal_length': X[:, 0], 'sepal_width': X[:, 1], 'petal_length': X[:, 2],'etal_width': X[:, 3], 'cluster_label':kmeans_ir_3.labels_, 'target':iris.target})\n",
    "\n",
    "display( df_iris )\n",
    "\n",
    "grouped = df_iris.groupby(['cluster_label', 'target']).agg({ 'sepal_length': 'count', })\n",
    "\n",
    "grouped"
   ]
  },
  {
   "cell_type": "code",
   "execution_count": null,
   "id": "510b1d4d-80fc-4421-a6ee-403b810365b8",
   "metadata": {},
   "outputs": [],
   "source": [
    "#iris"
   ]
  },
  {
   "cell_type": "markdown",
   "id": "f40c0cf1-78fa-4c14-9733-467288cf6ce4",
   "metadata": {},
   "source": [
    "<h1>How k-means works</h1>"
   ]
  },
  {
   "cell_type": "code",
   "execution_count": null,
   "id": "78764913-3b6f-4599-8f4d-8994a09af5ef",
   "metadata": {},
   "outputs": [],
   "source": [
    "df_dample = pd.DataFrame({'x_axis':[3.136885,1.481533,0.349872,0.532377,2.649282,1.209101], 'y_axis':[1.565928,0.678754,4.692533,3.313389,1.056135,3.535665],'set_number':[0,0,0,0,0,0]})\n",
    "\n",
    "cmap4 = colors.ListedColormap([\"grey\", \"blue\", \"red\", \"green\", \"black\", \"magenta\", \"pink\", \"brown\"])\n",
    "plt.scatter(df_dample['x_axis'], df_dample['y_axis'], c=df_dample['set_number'],cmap=cmap4)\n",
    "plt.title(\"Input set\")\n",
    "plt.show()\n",
    "\n",
    "\n",
    "#    3.136885 \t1.565928 \t1\n",
    "#1 \t1.481533 \t0.678754 \t1\n",
    "#2 \t0.349872 \t4.692533 \t0\n",
    "#3 \t0.532377 \t3.313389 \t0\n",
    "#4 \t2.649282 \t1.056135 \t1\n",
    "#5 \t1.209101 \t3.535665 \t0\n",
    "#6 \t0.999149 \t4.210195 \t0\n",
    "#7 \t3.016739 \t1.637921 \t1\n",
    "#8 \t0.782607 \t4.152636 \t0\n",
    "#9 \t1.653563 \t0.552889 \t1"
   ]
  },
  {
   "cell_type": "code",
   "execution_count": null,
   "id": "45218f70-9ab4-4fdf-9ebf-d3387f39ce1d",
   "metadata": {},
   "outputs": [],
   "source": [
    "df_dample = pd.DataFrame({'x_axis':[3.136885,1.481533,0.349872,0.532377,2.649282,1.209101, 2,0.5], 'y_axis':[1.565928,0.678754,4.692533,3.313389,1.056135,3.535665,1,4],'set_number':[0,0,0,0,0,0,3,4]})\n",
    "\n",
    "cmap4 = colors.ListedColormap([\"grey\", \"blue\", \"red\", \"green\", \"black\", \"magenta\", \"pink\", \"brown\"])\n",
    "plt.scatter(df_dample['x_axis'], df_dample['y_axis'], c=df_dample['set_number'],cmap=cmap4)\n",
    "plt.title(\"First step, centroids\")\n",
    "plt.show()"
   ]
  },
  {
   "cell_type": "code",
   "execution_count": null,
   "id": "15a61cbc-23bf-4958-896f-d6a32fded7fc",
   "metadata": {},
   "outputs": [],
   "source": [
    "df_dample = pd.DataFrame({'x_axis':[3.136885,1.481533,0.349872,0.532377,2.649282,1.209101, 2,0.532377], 'y_axis':[1.565928,0.678754,4.692533,3.313389,1.056135,3.535665,1,3.313389],'set_number':[0,0,0,0,0,0,3,4]})\n",
    "\n",
    "cmap4 = colors.ListedColormap([\"grey\", \"blue\", \"red\", \"green\", \"black\", \"magenta\", \"pink\", \"brown\"])\n",
    "plt.scatter(df_dample['x_axis'], df_dample['y_axis'], c=df_dample['set_number'],cmap=cmap4)\n",
    "plt.title(\"Second step\")\n",
    "plt.show()"
   ]
  },
  {
   "cell_type": "code",
   "execution_count": null,
   "id": "353f51a9-0dde-4dc9-8ed3-6b782f63f0f6",
   "metadata": {},
   "outputs": [],
   "source": [
    "df_dample = pd.DataFrame({'x_axis':[3.136885,1.481533,0.349872,0.532377,2.649282,1.209101, 1.481533,0.532377], 'y_axis':[1.565928,0.678754,4.692533,3.313389,1.056135,3.535665,0.678754,3.313389],'set_number':[0,0,0,0,0,0,3,4]})\n",
    "\n",
    "cmap4 = colors.ListedColormap([\"grey\", \"blue\", \"red\", \"green\", \"black\", \"magenta\", \"pink\", \"brown\"])\n",
    "plt.scatter(df_dample['x_axis'], df_dample['y_axis'], c=df_dample['set_number'],cmap=cmap4)\n",
    "plt.title(\"Third step\")\n",
    "plt.show()"
   ]
  },
  {
   "cell_type": "code",
   "execution_count": null,
   "id": "c85cab58-f34d-4754-8eb7-42e0bf353476",
   "metadata": {},
   "outputs": [],
   "source": [
    "df_dample = pd.DataFrame({'x_axis':[3.136885,1.481533,0.349872,0.532377,2.649282,1.209101, 1.481533,0.8707389], 'y_axis':[1.565928,0.678754,4.692533,3.313389,1.056135,3.535665,0.678754,3.424527],'set_number':[0,0,0,1,0,1,3,4]})\n",
    "\n",
    "cmap4 = colors.ListedColormap([\"grey\", \"blue\", \"red\", \"green\", \"black\", \"magenta\", \"pink\", \"brown\"])\n",
    "plt.scatter(df_dample['x_axis'], df_dample['y_axis'], c=df_dample['set_number'],cmap=cmap4)\n",
    "plt.title(\"Fourth step\")\n",
    "plt.show()"
   ]
  },
  {
   "cell_type": "code",
   "execution_count": null,
   "id": "52eac285-180c-48e3-a365-fffa68f56802",
   "metadata": {},
   "outputs": [],
   "source": [
    "df_dample = pd.DataFrame({'x_axis':[3.136885,1.481533,0.349872,0.532377,2.649282,1.209101, 1.481533,0.69711666], 'y_axis':[1.565928,0.678754,4.692533,3.313389,1.056135,3.535665,0.678754,3.8471956],'set_number':[0,0,1,1,0,1,3,4]})\n",
    "\n",
    "cmap4 = colors.ListedColormap([\"grey\", \"blue\", \"red\", \"green\", \"black\", \"magenta\", \"pink\", \"brown\"])\n",
    "plt.scatter(df_dample['x_axis'], df_dample['y_axis'], c=df_dample['set_number'],cmap=cmap4)\n",
    "plt.title(\"Fifth step\")\n",
    "plt.show()"
   ]
  },
  {
   "cell_type": "code",
   "execution_count": null,
   "id": "433656d2-31aa-4570-9e93-eccb2db65477",
   "metadata": {},
   "outputs": [],
   "source": [
    "df_dample = pd.DataFrame({'x_axis':[3.136885,1.481533,0.349872,0.532377,2.649282,1.209101, 2.0654075,0.69711666], 'y_axis':[1.565928,0.678754,4.692533,3.313389,1.056135,3.535665,0.8674445,3.8471956],'set_number':[0,2,1,1,2,1,3,4]})\n",
    "\n",
    "cmap4 = colors.ListedColormap([\"grey\", \"blue\", \"red\", \"green\", \"black\", \"magenta\", \"pink\", \"brown\"])\n",
    "plt.scatter(df_dample['x_axis'], df_dample['y_axis'], c=df_dample['set_number'],cmap=cmap4)\n",
    "plt.title(\"Sixth step\")\n",
    "plt.show()"
   ]
  },
  {
   "cell_type": "code",
   "execution_count": null,
   "id": "e05f4760-69ba-4702-9ee4-09e484fd294a",
   "metadata": {},
   "outputs": [],
   "source": [
    "df_dample = pd.DataFrame({'x_axis':[3.136885,1.481533,0.349872,0.532377,2.649282,1.209101, 2.4225666,0.69711666], 'y_axis':[1.565928,0.678754,4.692533,3.313389,1.056135,3.535665,1.10027233,3.8471956],'set_number':[2,2,1,1,2,1,3,4]})\n",
    "\n",
    "cmap4 = colors.ListedColormap([\"grey\", \"blue\", \"red\", \"green\", \"black\", \"magenta\", \"pink\", \"brown\"])\n",
    "plt.scatter(df_dample['x_axis'], df_dample['y_axis'], c=df_dample['set_number'],cmap=cmap4)\n",
    "plt.title(\"Final step\")\n",
    "plt.show()"
   ]
  },
  {
   "cell_type": "code",
   "execution_count": null,
   "id": "43077d01-db3e-4fa4-a134-4d16a0ef1173",
   "metadata": {},
   "outputs": [],
   "source": [
    "\n",
    "\n",
    "kmeans = KMeans(n_clusters=2, random_state=42)\n",
    "out = kmeans.fit_predict(df_dample[['x_axis','y_axis']])\n",
    "\n",
    "\n",
    "score = silhouette_score(df_dample[['x_axis','y_axis']], out )\n",
    "\n",
    "clusters = pd.DataFrame({'x_axis':df_dample['x_axis'],'y_axis':df_dample['y_axis'],'set_number':kmeans.labels_})\n",
    "center_sets = pd.DataFrame({'x_axis': kmeans.cluster_centers_[:, 0], 'y_axis': kmeans.cluster_centers_[:, 1],'set_number':[2,3]})\n",
    "\n",
    "df_res = pd.concat( [clusters, center_sets] )\n",
    "\n",
    "plt.scatter( df_res['x_axis'], df_res['y_axis'], c=df_res['set_number'],cmap=cmap4)\n",
    "plt.title(\"Silhouette score = \" + str( score ))\n",
    "plt.show()\n",
    "\n"
   ]
  },
  {
   "cell_type": "code",
   "execution_count": null,
   "id": "a7053b87-b91e-4f6e-bb45-0918497774d4",
   "metadata": {},
   "outputs": [],
   "source": []
  },
  {
   "cell_type": "code",
   "execution_count": null,
   "id": "79c4e7fa-e205-4c27-a3d6-7fba00dceb64",
   "metadata": {},
   "outputs": [],
   "source": [
    "(1.481533+2.649282+3.136885)/3"
   ]
  },
  {
   "cell_type": "code",
   "execution_count": null,
   "id": "b401a1c7-def0-40fc-99af-a41d92c1db8e",
   "metadata": {},
   "outputs": [],
   "source": [
    "(0.678754+1.056135+1.565928)/3"
   ]
  },
  {
   "cell_type": "code",
   "execution_count": null,
   "id": "cbd1bfc7-c1cf-4fc6-85e8-b4b0b3fce0c3",
   "metadata": {},
   "outputs": [],
   "source": []
  }
 ],
 "metadata": {
  "kernelspec": {
   "display_name": "Python 3 (ipykernel)",
   "language": "python",
   "name": "python3"
  },
  "language_info": {
   "codemirror_mode": {
    "name": "ipython",
    "version": 3
   },
   "file_extension": ".py",
   "mimetype": "text/x-python",
   "name": "python",
   "nbconvert_exporter": "python",
   "pygments_lexer": "ipython3",
   "version": "3.12.10"
  }
 },
 "nbformat": 4,
 "nbformat_minor": 5
}
