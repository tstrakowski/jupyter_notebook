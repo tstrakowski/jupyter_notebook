{
 "cells": [
  {
   "cell_type": "code",
   "execution_count": 2,
   "id": "8f760775-a7b2-4089-818f-3430bc956f2c",
   "metadata": {},
   "outputs": [],
   "source": [
    "from sklearn.model_selection import train_test_split\n",
    "import matplotlib.pyplot as plt\n",
    "import numpy as np\n",
    "from sklearn import datasets, linear_model\n",
    "from sklearn import preprocessing\n",
    "import matplotlib.colors as colors\n",
    "from sklearn.linear_model import LogisticRegression\n",
    "from sklearn.metrics import accuracy_score\n",
    "from sklearn.metrics import classification_report\n",
    "\n",
    "import numpy as np\n",
    "import pandas as pd"
   ]
  },
  {
   "cell_type": "markdown",
   "id": "98e44083-0d67-4b24-bf38-46ea64ea98e1",
   "metadata": {},
   "source": [
    "<H1>Ladujemy zbior breast cancer</H1>"
   ]
  },
  {
   "cell_type": "code",
   "execution_count": 112,
   "id": "a2aed11b-4271-4820-8286-d4b0329359c4",
   "metadata": {},
   "outputs": [],
   "source": [
    "cancer = datasets.load_breast_cancer( as_frame=True )"
   ]
  },
  {
   "cell_type": "markdown",
   "id": "0114f0ba-efe7-4396-a889-aa767be56bc2",
   "metadata": {},
   "source": [
    "<H2>Zmienne objasniajace</H2>"
   ]
  },
  {
   "cell_type": "code",
   "execution_count": 113,
   "id": "d48a40e4-54ea-4e0f-bd3f-05bfbfc5d7ae",
   "metadata": {},
   "outputs": [
    {
     "data": {
      "text/plain": [
       "Index(['mean radius', 'mean texture', 'mean perimeter', 'mean area',\n",
       "       'mean smoothness', 'mean compactness', 'mean concavity',\n",
       "       'mean concave points', 'mean symmetry', 'mean fractal dimension',\n",
       "       'radius error', 'texture error', 'perimeter error', 'area error',\n",
       "       'smoothness error', 'compactness error', 'concavity error',\n",
       "       'concave points error', 'symmetry error', 'fractal dimension error',\n",
       "       'worst radius', 'worst texture', 'worst perimeter', 'worst area',\n",
       "       'worst smoothness', 'worst compactness', 'worst concavity',\n",
       "       'worst concave points', 'worst symmetry', 'worst fractal dimension'],\n",
       "      dtype='object')"
      ]
     },
     "execution_count": 113,
     "metadata": {},
     "output_type": "execute_result"
    }
   ],
   "source": [
    "cancer['data'].columns"
   ]
  },
  {
   "cell_type": "code",
   "execution_count": 114,
   "id": "9bc477a9-79fa-4bdb-8a77-add06f516a78",
   "metadata": {},
   "outputs": [
    {
     "data": {
      "text/html": [
       "<div>\n",
       "<style scoped>\n",
       "    .dataframe tbody tr th:only-of-type {\n",
       "        vertical-align: middle;\n",
       "    }\n",
       "\n",
       "    .dataframe tbody tr th {\n",
       "        vertical-align: top;\n",
       "    }\n",
       "\n",
       "    .dataframe thead th {\n",
       "        text-align: right;\n",
       "    }\n",
       "</style>\n",
       "<table border=\"1\" class=\"dataframe\">\n",
       "  <thead>\n",
       "    <tr style=\"text-align: right;\">\n",
       "      <th></th>\n",
       "      <th>mean radius</th>\n",
       "      <th>mean texture</th>\n",
       "      <th>mean perimeter</th>\n",
       "      <th>mean area</th>\n",
       "      <th>mean smoothness</th>\n",
       "      <th>mean compactness</th>\n",
       "      <th>mean concavity</th>\n",
       "      <th>mean concave points</th>\n",
       "      <th>mean symmetry</th>\n",
       "      <th>mean fractal dimension</th>\n",
       "      <th>...</th>\n",
       "      <th>worst radius</th>\n",
       "      <th>worst texture</th>\n",
       "      <th>worst perimeter</th>\n",
       "      <th>worst area</th>\n",
       "      <th>worst smoothness</th>\n",
       "      <th>worst compactness</th>\n",
       "      <th>worst concavity</th>\n",
       "      <th>worst concave points</th>\n",
       "      <th>worst symmetry</th>\n",
       "      <th>worst fractal dimension</th>\n",
       "    </tr>\n",
       "  </thead>\n",
       "  <tbody>\n",
       "    <tr>\n",
       "      <th>0</th>\n",
       "      <td>17.990000</td>\n",
       "      <td>10.380000</td>\n",
       "      <td>122.800000</td>\n",
       "      <td>1,001.000000</td>\n",
       "      <td>0.118400</td>\n",
       "      <td>0.277600</td>\n",
       "      <td>0.300100</td>\n",
       "      <td>0.147100</td>\n",
       "      <td>0.241900</td>\n",
       "      <td>0.078710</td>\n",
       "      <td>...</td>\n",
       "      <td>25.380000</td>\n",
       "      <td>17.330000</td>\n",
       "      <td>184.600000</td>\n",
       "      <td>2,019.000000</td>\n",
       "      <td>0.162200</td>\n",
       "      <td>0.665600</td>\n",
       "      <td>0.711900</td>\n",
       "      <td>0.265400</td>\n",
       "      <td>0.460100</td>\n",
       "      <td>0.118900</td>\n",
       "    </tr>\n",
       "    <tr>\n",
       "      <th>1</th>\n",
       "      <td>20.570000</td>\n",
       "      <td>17.770000</td>\n",
       "      <td>132.900000</td>\n",
       "      <td>1,326.000000</td>\n",
       "      <td>0.084740</td>\n",
       "      <td>0.078640</td>\n",
       "      <td>0.086900</td>\n",
       "      <td>0.070170</td>\n",
       "      <td>0.181200</td>\n",
       "      <td>0.056670</td>\n",
       "      <td>...</td>\n",
       "      <td>24.990000</td>\n",
       "      <td>23.410000</td>\n",
       "      <td>158.800000</td>\n",
       "      <td>1,956.000000</td>\n",
       "      <td>0.123800</td>\n",
       "      <td>0.186600</td>\n",
       "      <td>0.241600</td>\n",
       "      <td>0.186000</td>\n",
       "      <td>0.275000</td>\n",
       "      <td>0.089020</td>\n",
       "    </tr>\n",
       "    <tr>\n",
       "      <th>2</th>\n",
       "      <td>19.690000</td>\n",
       "      <td>21.250000</td>\n",
       "      <td>130.000000</td>\n",
       "      <td>1,203.000000</td>\n",
       "      <td>0.109600</td>\n",
       "      <td>0.159900</td>\n",
       "      <td>0.197400</td>\n",
       "      <td>0.127900</td>\n",
       "      <td>0.206900</td>\n",
       "      <td>0.059990</td>\n",
       "      <td>...</td>\n",
       "      <td>23.570000</td>\n",
       "      <td>25.530000</td>\n",
       "      <td>152.500000</td>\n",
       "      <td>1,709.000000</td>\n",
       "      <td>0.144400</td>\n",
       "      <td>0.424500</td>\n",
       "      <td>0.450400</td>\n",
       "      <td>0.243000</td>\n",
       "      <td>0.361300</td>\n",
       "      <td>0.087580</td>\n",
       "    </tr>\n",
       "    <tr>\n",
       "      <th>3</th>\n",
       "      <td>11.420000</td>\n",
       "      <td>20.380000</td>\n",
       "      <td>77.580000</td>\n",
       "      <td>386.100000</td>\n",
       "      <td>0.142500</td>\n",
       "      <td>0.283900</td>\n",
       "      <td>0.241400</td>\n",
       "      <td>0.105200</td>\n",
       "      <td>0.259700</td>\n",
       "      <td>0.097440</td>\n",
       "      <td>...</td>\n",
       "      <td>14.910000</td>\n",
       "      <td>26.500000</td>\n",
       "      <td>98.870000</td>\n",
       "      <td>567.700000</td>\n",
       "      <td>0.209800</td>\n",
       "      <td>0.866300</td>\n",
       "      <td>0.686900</td>\n",
       "      <td>0.257500</td>\n",
       "      <td>0.663800</td>\n",
       "      <td>0.173000</td>\n",
       "    </tr>\n",
       "    <tr>\n",
       "      <th>4</th>\n",
       "      <td>20.290000</td>\n",
       "      <td>14.340000</td>\n",
       "      <td>135.100000</td>\n",
       "      <td>1,297.000000</td>\n",
       "      <td>0.100300</td>\n",
       "      <td>0.132800</td>\n",
       "      <td>0.198000</td>\n",
       "      <td>0.104300</td>\n",
       "      <td>0.180900</td>\n",
       "      <td>0.058830</td>\n",
       "      <td>...</td>\n",
       "      <td>22.540000</td>\n",
       "      <td>16.670000</td>\n",
       "      <td>152.200000</td>\n",
       "      <td>1,575.000000</td>\n",
       "      <td>0.137400</td>\n",
       "      <td>0.205000</td>\n",
       "      <td>0.400000</td>\n",
       "      <td>0.162500</td>\n",
       "      <td>0.236400</td>\n",
       "      <td>0.076780</td>\n",
       "    </tr>\n",
       "    <tr>\n",
       "      <th>5</th>\n",
       "      <td>12.450000</td>\n",
       "      <td>15.700000</td>\n",
       "      <td>82.570000</td>\n",
       "      <td>477.100000</td>\n",
       "      <td>0.127800</td>\n",
       "      <td>0.170000</td>\n",
       "      <td>0.157800</td>\n",
       "      <td>0.080890</td>\n",
       "      <td>0.208700</td>\n",
       "      <td>0.076130</td>\n",
       "      <td>...</td>\n",
       "      <td>15.470000</td>\n",
       "      <td>23.750000</td>\n",
       "      <td>103.400000</td>\n",
       "      <td>741.600000</td>\n",
       "      <td>0.179100</td>\n",
       "      <td>0.524900</td>\n",
       "      <td>0.535500</td>\n",
       "      <td>0.174100</td>\n",
       "      <td>0.398500</td>\n",
       "      <td>0.124400</td>\n",
       "    </tr>\n",
       "    <tr>\n",
       "      <th>6</th>\n",
       "      <td>18.250000</td>\n",
       "      <td>19.980000</td>\n",
       "      <td>119.600000</td>\n",
       "      <td>1,040.000000</td>\n",
       "      <td>0.094630</td>\n",
       "      <td>0.109000</td>\n",
       "      <td>0.112700</td>\n",
       "      <td>0.074000</td>\n",
       "      <td>0.179400</td>\n",
       "      <td>0.057420</td>\n",
       "      <td>...</td>\n",
       "      <td>22.880000</td>\n",
       "      <td>27.660000</td>\n",
       "      <td>153.200000</td>\n",
       "      <td>1,606.000000</td>\n",
       "      <td>0.144200</td>\n",
       "      <td>0.257600</td>\n",
       "      <td>0.378400</td>\n",
       "      <td>0.193200</td>\n",
       "      <td>0.306300</td>\n",
       "      <td>0.083680</td>\n",
       "    </tr>\n",
       "    <tr>\n",
       "      <th>7</th>\n",
       "      <td>13.710000</td>\n",
       "      <td>20.830000</td>\n",
       "      <td>90.200000</td>\n",
       "      <td>577.900000</td>\n",
       "      <td>0.118900</td>\n",
       "      <td>0.164500</td>\n",
       "      <td>0.093660</td>\n",
       "      <td>0.059850</td>\n",
       "      <td>0.219600</td>\n",
       "      <td>0.074510</td>\n",
       "      <td>...</td>\n",
       "      <td>17.060000</td>\n",
       "      <td>28.140000</td>\n",
       "      <td>110.600000</td>\n",
       "      <td>897.000000</td>\n",
       "      <td>0.165400</td>\n",
       "      <td>0.368200</td>\n",
       "      <td>0.267800</td>\n",
       "      <td>0.155600</td>\n",
       "      <td>0.319600</td>\n",
       "      <td>0.115100</td>\n",
       "    </tr>\n",
       "    <tr>\n",
       "      <th>8</th>\n",
       "      <td>13.000000</td>\n",
       "      <td>21.820000</td>\n",
       "      <td>87.500000</td>\n",
       "      <td>519.800000</td>\n",
       "      <td>0.127300</td>\n",
       "      <td>0.193200</td>\n",
       "      <td>0.185900</td>\n",
       "      <td>0.093530</td>\n",
       "      <td>0.235000</td>\n",
       "      <td>0.073890</td>\n",
       "      <td>...</td>\n",
       "      <td>15.490000</td>\n",
       "      <td>30.730000</td>\n",
       "      <td>106.200000</td>\n",
       "      <td>739.300000</td>\n",
       "      <td>0.170300</td>\n",
       "      <td>0.540100</td>\n",
       "      <td>0.539000</td>\n",
       "      <td>0.206000</td>\n",
       "      <td>0.437800</td>\n",
       "      <td>0.107200</td>\n",
       "    </tr>\n",
       "    <tr>\n",
       "      <th>9</th>\n",
       "      <td>12.460000</td>\n",
       "      <td>24.040000</td>\n",
       "      <td>83.970000</td>\n",
       "      <td>475.900000</td>\n",
       "      <td>0.118600</td>\n",
       "      <td>0.239600</td>\n",
       "      <td>0.227300</td>\n",
       "      <td>0.085430</td>\n",
       "      <td>0.203000</td>\n",
       "      <td>0.082430</td>\n",
       "      <td>...</td>\n",
       "      <td>15.090000</td>\n",
       "      <td>40.680000</td>\n",
       "      <td>97.650000</td>\n",
       "      <td>711.400000</td>\n",
       "      <td>0.185300</td>\n",
       "      <td>1.058000</td>\n",
       "      <td>1.105000</td>\n",
       "      <td>0.221000</td>\n",
       "      <td>0.436600</td>\n",
       "      <td>0.207500</td>\n",
       "    </tr>\n",
       "  </tbody>\n",
       "</table>\n",
       "<p>10 rows × 30 columns</p>\n",
       "</div>"
      ],
      "text/plain": [
       "   mean radius  mean texture  mean perimeter    mean area  mean smoothness  \\\n",
       "0    17.990000     10.380000      122.800000 1,001.000000         0.118400   \n",
       "1    20.570000     17.770000      132.900000 1,326.000000         0.084740   \n",
       "2    19.690000     21.250000      130.000000 1,203.000000         0.109600   \n",
       "3    11.420000     20.380000       77.580000   386.100000         0.142500   \n",
       "4    20.290000     14.340000      135.100000 1,297.000000         0.100300   \n",
       "5    12.450000     15.700000       82.570000   477.100000         0.127800   \n",
       "6    18.250000     19.980000      119.600000 1,040.000000         0.094630   \n",
       "7    13.710000     20.830000       90.200000   577.900000         0.118900   \n",
       "8    13.000000     21.820000       87.500000   519.800000         0.127300   \n",
       "9    12.460000     24.040000       83.970000   475.900000         0.118600   \n",
       "\n",
       "   mean compactness  mean concavity  mean concave points  mean symmetry  \\\n",
       "0          0.277600        0.300100             0.147100       0.241900   \n",
       "1          0.078640        0.086900             0.070170       0.181200   \n",
       "2          0.159900        0.197400             0.127900       0.206900   \n",
       "3          0.283900        0.241400             0.105200       0.259700   \n",
       "4          0.132800        0.198000             0.104300       0.180900   \n",
       "5          0.170000        0.157800             0.080890       0.208700   \n",
       "6          0.109000        0.112700             0.074000       0.179400   \n",
       "7          0.164500        0.093660             0.059850       0.219600   \n",
       "8          0.193200        0.185900             0.093530       0.235000   \n",
       "9          0.239600        0.227300             0.085430       0.203000   \n",
       "\n",
       "   mean fractal dimension  ...  worst radius  worst texture  worst perimeter  \\\n",
       "0                0.078710  ...     25.380000      17.330000       184.600000   \n",
       "1                0.056670  ...     24.990000      23.410000       158.800000   \n",
       "2                0.059990  ...     23.570000      25.530000       152.500000   \n",
       "3                0.097440  ...     14.910000      26.500000        98.870000   \n",
       "4                0.058830  ...     22.540000      16.670000       152.200000   \n",
       "5                0.076130  ...     15.470000      23.750000       103.400000   \n",
       "6                0.057420  ...     22.880000      27.660000       153.200000   \n",
       "7                0.074510  ...     17.060000      28.140000       110.600000   \n",
       "8                0.073890  ...     15.490000      30.730000       106.200000   \n",
       "9                0.082430  ...     15.090000      40.680000        97.650000   \n",
       "\n",
       "    worst area  worst smoothness  worst compactness  worst concavity  \\\n",
       "0 2,019.000000          0.162200           0.665600         0.711900   \n",
       "1 1,956.000000          0.123800           0.186600         0.241600   \n",
       "2 1,709.000000          0.144400           0.424500         0.450400   \n",
       "3   567.700000          0.209800           0.866300         0.686900   \n",
       "4 1,575.000000          0.137400           0.205000         0.400000   \n",
       "5   741.600000          0.179100           0.524900         0.535500   \n",
       "6 1,606.000000          0.144200           0.257600         0.378400   \n",
       "7   897.000000          0.165400           0.368200         0.267800   \n",
       "8   739.300000          0.170300           0.540100         0.539000   \n",
       "9   711.400000          0.185300           1.058000         1.105000   \n",
       "\n",
       "   worst concave points  worst symmetry  worst fractal dimension  \n",
       "0              0.265400        0.460100                 0.118900  \n",
       "1              0.186000        0.275000                 0.089020  \n",
       "2              0.243000        0.361300                 0.087580  \n",
       "3              0.257500        0.663800                 0.173000  \n",
       "4              0.162500        0.236400                 0.076780  \n",
       "5              0.174100        0.398500                 0.124400  \n",
       "6              0.193200        0.306300                 0.083680  \n",
       "7              0.155600        0.319600                 0.115100  \n",
       "8              0.206000        0.437800                 0.107200  \n",
       "9              0.221000        0.436600                 0.207500  \n",
       "\n",
       "[10 rows x 30 columns]"
      ]
     },
     "execution_count": 114,
     "metadata": {},
     "output_type": "execute_result"
    }
   ],
   "source": [
    "cancer['data'].head(10)"
   ]
  },
  {
   "cell_type": "code",
   "execution_count": 103,
   "id": "d0de6933-750e-4372-9763-f66131f25b37",
   "metadata": {},
   "outputs": [],
   "source": [
    "X = cancer['data']\n",
    "y = cancer['target']"
   ]
  },
  {
   "cell_type": "markdown",
   "id": "85ca13dc-9a61-40df-85bf-06d9d1237983",
   "metadata": {},
   "source": [
    "<H2>Podzial zbior uczacy i testowy</H2>"
   ]
  },
  {
   "cell_type": "code",
   "execution_count": 106,
   "id": "1d197ad0-f2eb-4822-9a6d-45bee2582b61",
   "metadata": {},
   "outputs": [],
   "source": [
    "# Split data 75%-25% into training set and test set\n",
    "X_train, X_test, y_train, y_test = train_test_split(X, y, test_size= 0.25, random_state= 0)\n",
    "#print (f'X_train: {X_train.shape} \\nX_test: {X_test.shape} \\ny_train: {y_train.shape} \\ny_test: {y_test.shape}')"
   ]
  },
  {
   "cell_type": "markdown",
   "id": "0c5d70cf-5aac-4891-ac97-4097e334e478",
   "metadata": {},
   "source": [
    "<H2>Uczymy model</H2>"
   ]
  },
  {
   "cell_type": "code",
   "execution_count": 109,
   "id": "6d264fc4-a7c0-4824-8bc8-198d563ea861",
   "metadata": {},
   "outputs": [
    {
     "name": "stdout",
     "output_type": "stream",
     "text": [
      "LogisticRegression(C=100.0, solver='liblinear')\n"
     ]
    },
    {
     "data": {
      "text/plain": [
       "array([4.85932644])"
      ]
     },
     "execution_count": 109,
     "metadata": {},
     "output_type": "execute_result"
    }
   ],
   "source": [
    "# train a logistic regression model on the training set\n",
    "model = LogisticRegression(C=1/reg, solver=\"liblinear\").fit(X_train, y_train)\n",
    "print (model)\n",
    "\n",
    "model.intercept_"
   ]
  },
  {
   "cell_type": "code",
   "execution_count": 110,
   "id": "8698b42f-6697-4c11-bdd4-c0df4a434f42",
   "metadata": {},
   "outputs": [
    {
     "data": {
      "text/plain": [
       "array([[ 3.47033538,  0.08181985, -0.12645343, -0.01578647, -2.63231174,\n",
       "        -0.23780291, -1.80796963, -4.2710887 , -5.11220899,  0.46294534,\n",
       "         0.88150244,  1.91478041, -0.09922129, -0.13963688, -0.20553948,\n",
       "         4.10942961,  4.92397468, -0.16566146,  0.43510492,  0.79820461,\n",
       "         0.56028355, -0.3914794 , -0.09293206, -0.01798997, -4.28448925,\n",
       "        -0.47830696, -4.10332587, -8.23933733, -7.14346978,  0.22330264]])"
      ]
     },
     "execution_count": 110,
     "metadata": {},
     "output_type": "execute_result"
    }
   ],
   "source": [
    "model.coef_"
   ]
  },
  {
   "cell_type": "markdown",
   "id": "9a204896-6e4f-4d6a-a3dd-e19c96747fd6",
   "metadata": {},
   "source": [
    "<H2>Dokonujemy predykcji</H2>"
   ]
  },
  {
   "cell_type": "code",
   "execution_count": 81,
   "id": "9a07a19f-947b-477e-bf85-70c6feaba8e8",
   "metadata": {},
   "outputs": [],
   "source": [
    "predictions = model.predict(X_test)\n",
    "probabilities = model.predict_proba(X_test)\n",
    "#print('Predicted labels: ', predictions)\n",
    "#print('Actual labels:    ' ,y_test)\n",
    "\n"
   ]
  },
  {
   "cell_type": "markdown",
   "id": "06c13e79-f0dc-4190-9593-4488ca0f6d28",
   "metadata": {},
   "source": [
    "<H2>Zerknijmy na rozklad prawdopodobienstwa predykcji</H2>"
   ]
  },
  {
   "cell_type": "code",
   "execution_count": 111,
   "id": "7b507287-c49f-4cfe-b717-7f3c149ff17f",
   "metadata": {},
   "outputs": [
    {
     "data": {
      "text/plain": [
       "(array([78.,  2.,  3.,  3.,  0.,  1.,  2.,  3.,  3., 48.]),\n",
       " array([2.82343822e-06, 1.00002541e-01, 2.00002259e-01, 3.00001976e-01,\n",
       "        4.00001694e-01, 5.00001412e-01, 6.00001129e-01, 7.00000847e-01,\n",
       "        8.00000565e-01, 9.00000282e-01, 1.00000000e+00]),\n",
       " <BarContainer object of 10 artists>)"
      ]
     },
     "execution_count": 111,
     "metadata": {},
     "output_type": "execute_result"
    },
    {
     "data": {
      "image/png": "[encoded data removed]",
      "text/plain": [
       "<Figure size 640x480 with 1 Axes>"
      ]
     },
     "metadata": {},
     "output_type": "display_data"
    }
   ],
   "source": [
    "plt.hist( probabilities[:,0] )"
   ]
  },
  {
   "cell_type": "markdown",
   "id": "9a0b7fe9-c333-4472-bfdd-ec583dcecc8a",
   "metadata": {},
   "source": [
    "<H2>Zerknijmy na rozklad prognozowaniej decyzji</H2>"
   ]
  },
  {
   "cell_type": "code",
   "execution_count": 83,
   "id": "a9cdc835-1e2e-4f90-93bd-1563a8c0b09e",
   "metadata": {},
   "outputs": [
    {
     "data": {
      "text/plain": [
       "(array([57.,  0.,  0.,  0.,  0.,  0.,  0.,  0.,  0., 86.]),\n",
       " array([0. , 0.1, 0.2, 0.3, 0.4, 0.5, 0.6, 0.7, 0.8, 0.9, 1. ]),\n",
       " <BarContainer object of 10 artists>)"
      ]
     },
     "execution_count": 83,
     "metadata": {},
     "output_type": "execute_result"
    },
    {
     "data": {
      "image/png": "[encoded data removed]",
      "text/plain": [
       "<Figure size 640x480 with 1 Axes>"
      ]
     },
     "metadata": {},
     "output_type": "display_data"
    }
   ],
   "source": [
    "plt.hist( predictions )"
   ]
  },
  {
   "cell_type": "markdown",
   "id": "b69d5441-1b7b-4c71-b2b2-738eba09de2c",
   "metadata": {},
   "source": [
    "<H2>Zerknijmy na rozklad zmiennej objasnianej</H2>"
   ]
  },
  {
   "cell_type": "code",
   "execution_count": 87,
   "id": "410e3a6b-08bd-406d-b8d9-383663ead8cf",
   "metadata": {},
   "outputs": [
    {
     "data": {
      "text/plain": [
       "(array([53.,  0.,  0.,  0.,  0.,  0.,  0.,  0.,  0., 90.]),\n",
       " array([0. , 0.1, 0.2, 0.3, 0.4, 0.5, 0.6, 0.7, 0.8, 0.9, 1. ]),\n",
       " <BarContainer object of 10 artists>)"
      ]
     },
     "execution_count": 87,
     "metadata": {},
     "output_type": "execute_result"
    },
    {
     "data": {
      "image/png": "[encoded data removed]",
      "text/plain": [
       "<Figure size 640x480 with 1 Axes>"
      ]
     },
     "metadata": {},
     "output_type": "display_data"
    }
   ],
   "source": [
    "plt.hist( y_test )"
   ]
  },
  {
   "cell_type": "markdown",
   "id": "baeefc8e-081e-4e8b-948e-89edc64a57b3",
   "metadata": {},
   "source": [
    "<H2>Jak klasyfikator podejmuje decyzje</H2>"
   ]
  },
  {
   "cell_type": "code",
   "execution_count": 88,
   "id": "8a31a86a-88b4-4020-b38a-701f451f2191",
   "metadata": {},
   "outputs": [
    {
     "data": {
      "text/html": [
       "<div>\n",
       "<style scoped>\n",
       "    .dataframe tbody tr th:only-of-type {\n",
       "        vertical-align: middle;\n",
       "    }\n",
       "\n",
       "    .dataframe tbody tr th {\n",
       "        vertical-align: top;\n",
       "    }\n",
       "\n",
       "    .dataframe thead th {\n",
       "        text-align: right;\n",
       "    }\n",
       "</style>\n",
       "<table border=\"1\" class=\"dataframe\">\n",
       "  <thead>\n",
       "    <tr style=\"text-align: right;\">\n",
       "      <th></th>\n",
       "      <th>Predicted labels</th>\n",
       "      <th>proba</th>\n",
       "      <th>Actual labels</th>\n",
       "      <th>pred_65</th>\n",
       "      <th>pred_85</th>\n",
       "      <th>pred_95</th>\n",
       "      <th>pred_99</th>\n",
       "    </tr>\n",
       "  </thead>\n",
       "  <tbody>\n",
       "    <tr>\n",
       "      <th>512</th>\n",
       "      <td>0</td>\n",
       "      <td>0.001038</td>\n",
       "      <td>0</td>\n",
       "      <td>0</td>\n",
       "      <td>0</td>\n",
       "      <td>0</td>\n",
       "      <td>0</td>\n",
       "    </tr>\n",
       "    <tr>\n",
       "      <th>457</th>\n",
       "      <td>1</td>\n",
       "      <td>0.984099</td>\n",
       "      <td>1</td>\n",
       "      <td>1</td>\n",
       "      <td>1</td>\n",
       "      <td>1</td>\n",
       "      <td>0</td>\n",
       "    </tr>\n",
       "    <tr>\n",
       "      <th>439</th>\n",
       "      <td>1</td>\n",
       "      <td>0.999632</td>\n",
       "      <td>1</td>\n",
       "      <td>1</td>\n",
       "      <td>1</td>\n",
       "      <td>1</td>\n",
       "      <td>1</td>\n",
       "    </tr>\n",
       "    <tr>\n",
       "      <th>298</th>\n",
       "      <td>1</td>\n",
       "      <td>0.939956</td>\n",
       "      <td>1</td>\n",
       "      <td>1</td>\n",
       "      <td>1</td>\n",
       "      <td>0</td>\n",
       "      <td>0</td>\n",
       "    </tr>\n",
       "    <tr>\n",
       "      <th>37</th>\n",
       "      <td>1</td>\n",
       "      <td>0.999997</td>\n",
       "      <td>1</td>\n",
       "      <td>1</td>\n",
       "      <td>1</td>\n",
       "      <td>1</td>\n",
       "      <td>1</td>\n",
       "    </tr>\n",
       "  </tbody>\n",
       "</table>\n",
       "</div>"
      ],
      "text/plain": [
       "     Predicted labels    proba  Actual labels  pred_65  pred_85  pred_95  \\\n",
       "512                 0 0.001038              0        0        0        0   \n",
       "457                 1 0.984099              1        1        1        1   \n",
       "439                 1 0.999632              1        1        1        1   \n",
       "298                 1 0.939956              1        1        1        0   \n",
       "37                  1 0.999997              1        1        1        1   \n",
       "\n",
       "     pred_99  \n",
       "512        0  \n",
       "457        0  \n",
       "439        1  \n",
       "298        0  \n",
       "37         1  "
      ]
     },
     "metadata": {},
     "output_type": "display_data"
    },
    {
     "data": {
      "text/html": [
       "<div>\n",
       "<style scoped>\n",
       "    .dataframe tbody tr th:only-of-type {\n",
       "        vertical-align: middle;\n",
       "    }\n",
       "\n",
       "    .dataframe tbody tr th {\n",
       "        vertical-align: top;\n",
       "    }\n",
       "\n",
       "    .dataframe thead th {\n",
       "        text-align: right;\n",
       "    }\n",
       "</style>\n",
       "<table border=\"1\" class=\"dataframe\">\n",
       "  <thead>\n",
       "    <tr style=\"text-align: right;\">\n",
       "      <th></th>\n",
       "      <th></th>\n",
       "      <th>Actual labels</th>\n",
       "    </tr>\n",
       "    <tr>\n",
       "      <th>Predicted labels</th>\n",
       "      <th>Actual labels</th>\n",
       "      <th></th>\n",
       "    </tr>\n",
       "  </thead>\n",
       "  <tbody>\n",
       "    <tr>\n",
       "      <th rowspan=\"2\" valign=\"top\">0</th>\n",
       "      <th>0</th>\n",
       "      <td>52</td>\n",
       "    </tr>\n",
       "    <tr>\n",
       "      <th>1</th>\n",
       "      <td>5</td>\n",
       "    </tr>\n",
       "    <tr>\n",
       "      <th rowspan=\"2\" valign=\"top\">1</th>\n",
       "      <th>0</th>\n",
       "      <td>1</td>\n",
       "    </tr>\n",
       "    <tr>\n",
       "      <th>1</th>\n",
       "      <td>85</td>\n",
       "    </tr>\n",
       "  </tbody>\n",
       "</table>\n",
       "</div>"
      ],
      "text/plain": [
       "                                Actual labels\n",
       "Predicted labels Actual labels               \n",
       "0                0                         52\n",
       "                 1                          5\n",
       "1                0                          1\n",
       "                 1                         85"
      ]
     },
     "execution_count": 88,
     "metadata": {},
     "output_type": "execute_result"
    }
   ],
   "source": [
    "dataset = pd.DataFrame( {'Predicted labels':predictions, 'proba':probabilities[:,1], 'Actual labels':y_test} )\n",
    "pd.options.display.float_format = \"{:,.6f}\".format\n",
    "\n",
    "dataset['pred_65'] = dataset.apply(lambda row: 1 if row['proba'] > 0.65 else 0, axis=1)\n",
    "dataset['pred_85'] = dataset.apply(lambda row: 1 if row['proba'] > 0.85 else 0, axis=1)\n",
    "dataset['pred_95'] = dataset.apply(lambda row: 1 if row['proba'] > 0.95 else 0, axis=1)\n",
    "dataset['pred_99'] = dataset.apply(lambda row: 1 if row['proba'] > 0.99 else 0, axis=1)\n",
    "\n",
    "display( dataset.head(5) )\n",
    "grouped = dataset.groupby(['Predicted labels', 'Actual labels']).agg({ 'Actual labels': 'count', })\n",
    "\n",
    "grouped\n"
   ]
  },
  {
   "cell_type": "code",
   "execution_count": 89,
   "id": "05663b06-74fa-4453-a164-5317291f9e24",
   "metadata": {},
   "outputs": [
    {
     "data": {
      "text/html": [
       "<div>\n",
       "<style scoped>\n",
       "    .dataframe tbody tr th:only-of-type {\n",
       "        vertical-align: middle;\n",
       "    }\n",
       "\n",
       "    .dataframe tbody tr th {\n",
       "        vertical-align: top;\n",
       "    }\n",
       "\n",
       "    .dataframe thead th {\n",
       "        text-align: right;\n",
       "    }\n",
       "</style>\n",
       "<table border=\"1\" class=\"dataframe\">\n",
       "  <thead>\n",
       "    <tr style=\"text-align: right;\">\n",
       "      <th></th>\n",
       "      <th>Predicted labels</th>\n",
       "      <th>proba</th>\n",
       "      <th>Actual labels</th>\n",
       "      <th>pred_65</th>\n",
       "      <th>pred_85</th>\n",
       "      <th>pred_95</th>\n",
       "      <th>pred_99</th>\n",
       "    </tr>\n",
       "  </thead>\n",
       "  <tbody>\n",
       "    <tr>\n",
       "      <th>512</th>\n",
       "      <td>0</td>\n",
       "      <td>0.001038</td>\n",
       "      <td>0</td>\n",
       "      <td>0</td>\n",
       "      <td>0</td>\n",
       "      <td>0</td>\n",
       "      <td>0</td>\n",
       "    </tr>\n",
       "    <tr>\n",
       "      <th>457</th>\n",
       "      <td>1</td>\n",
       "      <td>0.984099</td>\n",
       "      <td>1</td>\n",
       "      <td>1</td>\n",
       "      <td>1</td>\n",
       "      <td>1</td>\n",
       "      <td>0</td>\n",
       "    </tr>\n",
       "    <tr>\n",
       "      <th>439</th>\n",
       "      <td>1</td>\n",
       "      <td>0.999632</td>\n",
       "      <td>1</td>\n",
       "      <td>1</td>\n",
       "      <td>1</td>\n",
       "      <td>1</td>\n",
       "      <td>1</td>\n",
       "    </tr>\n",
       "    <tr>\n",
       "      <th>298</th>\n",
       "      <td>1</td>\n",
       "      <td>0.939956</td>\n",
       "      <td>1</td>\n",
       "      <td>1</td>\n",
       "      <td>1</td>\n",
       "      <td>0</td>\n",
       "      <td>0</td>\n",
       "    </tr>\n",
       "    <tr>\n",
       "      <th>37</th>\n",
       "      <td>1</td>\n",
       "      <td>0.999997</td>\n",
       "      <td>1</td>\n",
       "      <td>1</td>\n",
       "      <td>1</td>\n",
       "      <td>1</td>\n",
       "      <td>1</td>\n",
       "    </tr>\n",
       "  </tbody>\n",
       "</table>\n",
       "</div>"
      ],
      "text/plain": [
       "     Predicted labels    proba  Actual labels  pred_65  pred_85  pred_95  \\\n",
       "512                 0 0.001038              0        0        0        0   \n",
       "457                 1 0.984099              1        1        1        1   \n",
       "439                 1 0.999632              1        1        1        1   \n",
       "298                 1 0.939956              1        1        1        0   \n",
       "37                  1 0.999997              1        1        1        1   \n",
       "\n",
       "     pred_99  \n",
       "512        0  \n",
       "457        0  \n",
       "439        1  \n",
       "298        0  \n",
       "37         1  "
      ]
     },
     "metadata": {},
     "output_type": "display_data"
    },
    {
     "data": {
      "text/html": [
       "<div>\n",
       "<style scoped>\n",
       "    .dataframe tbody tr th:only-of-type {\n",
       "        vertical-align: middle;\n",
       "    }\n",
       "\n",
       "    .dataframe tbody tr th {\n",
       "        vertical-align: top;\n",
       "    }\n",
       "\n",
       "    .dataframe thead th {\n",
       "        text-align: right;\n",
       "    }\n",
       "</style>\n",
       "<table border=\"1\" class=\"dataframe\">\n",
       "  <thead>\n",
       "    <tr style=\"text-align: right;\">\n",
       "      <th></th>\n",
       "      <th></th>\n",
       "      <th></th>\n",
       "      <th></th>\n",
       "      <th></th>\n",
       "      <th></th>\n",
       "      <th>Actual labels</th>\n",
       "    </tr>\n",
       "    <tr>\n",
       "      <th>Predicted labels</th>\n",
       "      <th>Actual labels</th>\n",
       "      <th>pred_65</th>\n",
       "      <th>pred_85</th>\n",
       "      <th>pred_95</th>\n",
       "      <th>pred_99</th>\n",
       "      <th></th>\n",
       "    </tr>\n",
       "  </thead>\n",
       "  <tbody>\n",
       "    <tr>\n",
       "      <th rowspan=\"2\" valign=\"top\">0</th>\n",
       "      <th>0</th>\n",
       "      <th>0</th>\n",
       "      <th>0</th>\n",
       "      <th>0</th>\n",
       "      <th>0</th>\n",
       "      <td>52</td>\n",
       "    </tr>\n",
       "    <tr>\n",
       "      <th>1</th>\n",
       "      <th>0</th>\n",
       "      <th>0</th>\n",
       "      <th>0</th>\n",
       "      <th>0</th>\n",
       "      <td>5</td>\n",
       "    </tr>\n",
       "    <tr>\n",
       "      <th rowspan=\"5\" valign=\"top\">1</th>\n",
       "      <th>0</th>\n",
       "      <th>1</th>\n",
       "      <th>0</th>\n",
       "      <th>0</th>\n",
       "      <th>0</th>\n",
       "      <td>1</td>\n",
       "    </tr>\n",
       "    <tr>\n",
       "      <th rowspan=\"4\" valign=\"top\">1</th>\n",
       "      <th rowspan=\"4\" valign=\"top\">1</th>\n",
       "      <th>0</th>\n",
       "      <th>0</th>\n",
       "      <th>0</th>\n",
       "      <td>5</td>\n",
       "    </tr>\n",
       "    <tr>\n",
       "      <th rowspan=\"3\" valign=\"top\">1</th>\n",
       "      <th>0</th>\n",
       "      <th>0</th>\n",
       "      <td>9</td>\n",
       "    </tr>\n",
       "    <tr>\n",
       "      <th rowspan=\"2\" valign=\"top\">1</th>\n",
       "      <th>0</th>\n",
       "      <td>9</td>\n",
       "    </tr>\n",
       "    <tr>\n",
       "      <th>1</th>\n",
       "      <td>62</td>\n",
       "    </tr>\n",
       "  </tbody>\n",
       "</table>\n",
       "</div>"
      ],
      "text/plain": [
       "                                                                Actual labels\n",
       "Predicted labels Actual labels pred_65 pred_85 pred_95 pred_99               \n",
       "0                0             0       0       0       0                   52\n",
       "                 1             0       0       0       0                    5\n",
       "1                0             1       0       0       0                    1\n",
       "                 1             1       0       0       0                    5\n",
       "                                       1       0       0                    9\n",
       "                                               1       0                    9\n",
       "                                                       1                   62"
      ]
     },
     "execution_count": 89,
     "metadata": {},
     "output_type": "execute_result"
    }
   ],
   "source": [
    "display( dataset.head(5) )\n",
    "grouped = dataset.groupby(['Predicted labels', 'Actual labels', 'pred_65', 'pred_85', 'pred_95', 'pred_99']).agg({ 'Actual labels': 'count', })\n",
    "\n",
    "grouped"
   ]
  },
  {
   "cell_type": "code",
   "execution_count": 90,
   "id": "69b00077-0aac-4327-8d09-6c5b10e064d1",
   "metadata": {},
   "outputs": [
    {
     "name": "stdout",
     "output_type": "stream",
     "text": [
      "Accuracy score default: 0.958041958041958\n",
      "Accuracy score default 65: 0.958041958041958\n",
      "Accuracy score default 85: 0.9300699300699301\n",
      "Accuracy score default 95: 0.8671328671328671\n",
      "Accuracy score default 99: 0.8041958041958042\n"
     ]
    }
   ],
   "source": [
    "print(f\"Accuracy score default: {accuracy_score(y_test, dataset['Predicted labels'])}\")\n",
    "print(f\"Accuracy score default 65: {accuracy_score(y_test, dataset['pred_65'])}\")\n",
    "print(f\"Accuracy score default 85: {accuracy_score(y_test, dataset['pred_85'])}\")\n",
    "print(f\"Accuracy score default 95: {accuracy_score(y_test, dataset['pred_95'])}\")\n",
    "print(f\"Accuracy score default 99: {accuracy_score(y_test, dataset['pred_99'])}\")"
   ]
  },
  {
   "cell_type": "code",
   "execution_count": 91,
   "id": "91cf14f5-c552-4227-b12b-0092cdfd83b8",
   "metadata": {},
   "outputs": [
    {
     "name": "stdout",
     "output_type": "stream",
     "text": [
      "              precision    recall  f1-score   support\n",
      "\n",
      "           0       0.91      0.98      0.95        53\n",
      "           1       0.99      0.94      0.97        90\n",
      "\n",
      "    accuracy                           0.96       143\n",
      "   macro avg       0.95      0.96      0.96       143\n",
      "weighted avg       0.96      0.96      0.96       143\n",
      "\n"
     ]
    }
   ],
   "source": [
    "print(classification_report(y_test, predictions))"
   ]
  },
  {
   "cell_type": "code",
   "execution_count": 92,
   "id": "cc8b3fc1-4692-448a-9ca9-47c633db86db",
   "metadata": {},
   "outputs": [
    {
     "name": "stdout",
     "output_type": "stream",
     "text": [
      "              precision    recall  f1-score   support\n",
      "\n",
      "           0       0.91      0.98      0.95        53\n",
      "           1       0.99      0.94      0.97        90\n",
      "\n",
      "    accuracy                           0.96       143\n",
      "   macro avg       0.95      0.96      0.96       143\n",
      "weighted avg       0.96      0.96      0.96       143\n",
      "\n"
     ]
    }
   ],
   "source": [
    "print(classification_report(y_test, dataset['pred_65']))"
   ]
  },
  {
   "cell_type": "code",
   "execution_count": 93,
   "id": "cd89d957-c9cf-4e9a-912f-bca142423a47",
   "metadata": {},
   "outputs": [
    {
     "name": "stdout",
     "output_type": "stream",
     "text": [
      "              precision    recall  f1-score   support\n",
      "\n",
      "           0       0.84      1.00      0.91        53\n",
      "           1       1.00      0.89      0.94        90\n",
      "\n",
      "    accuracy                           0.93       143\n",
      "   macro avg       0.92      0.94      0.93       143\n",
      "weighted avg       0.94      0.93      0.93       143\n",
      "\n"
     ]
    }
   ],
   "source": [
    "print(classification_report(y_test, dataset['pred_85']))"
   ]
  },
  {
   "cell_type": "code",
   "execution_count": 94,
   "id": "876f293c-83a3-4185-9fc3-5c96ee1ff5d4",
   "metadata": {},
   "outputs": [
    {
     "name": "stdout",
     "output_type": "stream",
     "text": [
      "              precision    recall  f1-score   support\n",
      "\n",
      "           0       0.74      1.00      0.85        53\n",
      "           1       1.00      0.79      0.88        90\n",
      "\n",
      "    accuracy                           0.87       143\n",
      "   macro avg       0.87      0.89      0.86       143\n",
      "weighted avg       0.90      0.87      0.87       143\n",
      "\n"
     ]
    }
   ],
   "source": [
    "print(classification_report(y_test, dataset['pred_95']))"
   ]
  },
  {
   "cell_type": "code",
   "execution_count": 95,
   "id": "b9d5dd3a-db67-422b-b96f-734d452d1141",
   "metadata": {},
   "outputs": [
    {
     "name": "stdout",
     "output_type": "stream",
     "text": [
      "              precision    recall  f1-score   support\n",
      "\n",
      "           0       0.65      1.00      0.79        53\n",
      "           1       1.00      0.69      0.82        90\n",
      "\n",
      "    accuracy                           0.80       143\n",
      "   macro avg       0.83      0.84      0.80       143\n",
      "weighted avg       0.87      0.80      0.81       143\n",
      "\n"
     ]
    }
   ],
   "source": [
    "print(classification_report(y_test, dataset['pred_99']))"
   ]
  },
  {
   "cell_type": "code",
   "execution_count": 96,
   "id": "e4eaaa12-5a91-4e05-870f-00fb423111b8",
   "metadata": {},
   "outputs": [
    {
     "data": {
      "text/plain": [
       "(array([57.,  0.,  0.,  0.,  0.,  0.,  0.,  0.,  0., 86.]),\n",
       " array([0. , 0.1, 0.2, 0.3, 0.4, 0.5, 0.6, 0.7, 0.8, 0.9, 1. ]),\n",
       " <BarContainer object of 10 artists>)"
      ]
     },
     "execution_count": 96,
     "metadata": {},
     "output_type": "execute_result"
    },
    {
     "data": {
      "image/png": "[encoded data removed]",
      "text/plain": [
       "<Figure size 640x480 with 1 Axes>"
      ]
     },
     "metadata": {},
     "output_type": "display_data"
    }
   ],
   "source": [
    "plt.hist( dataset['pred_65'] )"
   ]
  },
  {
   "cell_type": "code",
   "execution_count": 97,
   "id": "aa18e16e-8786-419c-994c-998828bea4eb",
   "metadata": {},
   "outputs": [
    {
     "data": {
      "text/plain": [
       "(array([63.,  0.,  0.,  0.,  0.,  0.,  0.,  0.,  0., 80.]),\n",
       " array([0. , 0.1, 0.2, 0.3, 0.4, 0.5, 0.6, 0.7, 0.8, 0.9, 1. ]),\n",
       " <BarContainer object of 10 artists>)"
      ]
     },
     "execution_count": 97,
     "metadata": {},
     "output_type": "execute_result"
    },
    {
     "data": {
      "image/png": "[encoded data removed]",
      "text/plain": [
       "<Figure size 640x480 with 1 Axes>"
      ]
     },
     "metadata": {},
     "output_type": "display_data"
    }
   ],
   "source": [
    "plt.hist( dataset['pred_85'] )"
   ]
  },
  {
   "cell_type": "code",
   "execution_count": 98,
   "id": "aec5b0c8-b480-4f30-9ed8-1bbe734020b1",
   "metadata": {},
   "outputs": [
    {
     "data": {
      "text/plain": [
       "(array([72.,  0.,  0.,  0.,  0.,  0.,  0.,  0.,  0., 71.]),\n",
       " array([0. , 0.1, 0.2, 0.3, 0.4, 0.5, 0.6, 0.7, 0.8, 0.9, 1. ]),\n",
       " <BarContainer object of 10 artists>)"
      ]
     },
     "execution_count": 98,
     "metadata": {},
     "output_type": "execute_result"
    },
    {
     "data": {
      "image/png": "[encoded data removed]",
      "text/plain": [
       "<Figure size 640x480 with 1 Axes>"
      ]
     },
     "metadata": {},
     "output_type": "display_data"
    }
   ],
   "source": [
    "plt.hist( dataset['pred_95'] )"
   ]
  },
  {
   "cell_type": "code",
   "execution_count": 99,
   "id": "243aa1c9-a8da-4b7f-a3a7-2611af23c6ef",
   "metadata": {},
   "outputs": [
    {
     "data": {
      "text/plain": [
       "(array([81.,  0.,  0.,  0.,  0.,  0.,  0.,  0.,  0., 62.]),\n",
       " array([0. , 0.1, 0.2, 0.3, 0.4, 0.5, 0.6, 0.7, 0.8, 0.9, 1. ]),\n",
       " <BarContainer object of 10 artists>)"
      ]
     },
     "execution_count": 99,
     "metadata": {},
     "output_type": "execute_result"
    },
    {
     "data": {
      "image/png": "[encoded data removed]",
      "text/plain": [
       "<Figure size 640x480 with 1 Axes>"
      ]
     },
     "metadata": {},
     "output_type": "display_data"
    }
   ],
   "source": [
    "plt.hist( dataset['pred_99'] )"
   ]
  },
  {
   "cell_type": "code",
   "execution_count": null,
   "id": "37d5aef2-4d43-4f03-adfb-5ac758d8fa17",
   "metadata": {},
   "outputs": [],
   "source": []
  },
  {
   "cell_type": "code",
   "execution_count": null,
   "id": "dfa8fda6-3e23-411f-851f-cc1f427fdcb9",
   "metadata": {},
   "outputs": [],
   "source": []
  },
  {
   "cell_type": "code",
   "execution_count": null,
   "id": "865aa793-3425-4142-8d4b-0f5c66b6f886",
   "metadata": {},
   "outputs": [],
   "source": []
  },
  {
   "cell_type": "code",
   "execution_count": null,
   "id": "6677c094-a733-4185-b393-eadaadd3c712",
   "metadata": {},
   "outputs": [],
   "source": []
  },
  {
   "cell_type": "code",
   "execution_count": null,
   "id": "709554b2-5def-4afb-90e9-0bbcf06a2354",
   "metadata": {},
   "outputs": [],
   "source": []
  },
  {
   "cell_type": "code",
   "execution_count": null,
   "id": "febc70fd-64b1-43d1-b090-4c8978b66460",
   "metadata": {},
   "outputs": [],
   "source": []
  },
  {
   "cell_type": "code",
   "execution_count": null,
   "id": "4cb22452-4a51-4190-b191-10438da24acf",
   "metadata": {},
   "outputs": [],
   "source": []
  },
  {
   "cell_type": "code",
   "execution_count": null,
   "id": "90976104-6dfc-41cf-bdee-2e0086e3b27f",
   "metadata": {},
   "outputs": [],
   "source": []
  },
  {
   "cell_type": "code",
   "execution_count": 35,
   "id": "99852f4f-9f75-423d-b68f-fe390ba65f28",
   "metadata": {},
   "outputs": [
    {
     "data": {
      "text/plain": [
       "array([[0.47058824, 0.52941176],\n",
       "       [0.98843931, 0.01156069],\n",
       "       [0.98843931, 0.01156069],\n",
       "       [0.60869565, 0.39130435]])"
      ]
     },
     "execution_count": 35,
     "metadata": {},
     "output_type": "execute_result"
    }
   ],
   "source": [
    "from sklearn.datasets import make_classification\n",
    "from sklearn.tree import DecisionTreeClassifier\n",
    "\n",
    "classifier = DecisionTreeClassifier(max_depth=2, random_state=0).fit(X, y)\n",
    "\n",
    "classifier.predict_proba(X[:4])\n",
    "\n",
    "\n"
   ]
  },
  {
   "cell_type": "code",
   "execution_count": 36,
   "id": "24c94fa7-76ae-45b2-9d3f-9c362a30a1a2",
   "metadata": {},
   "outputs": [
    {
     "data": {
      "text/plain": [
       "array([1, 0, 0, 0])"
      ]
     },
     "execution_count": 36,
     "metadata": {},
     "output_type": "execute_result"
    }
   ],
   "source": [
    "classifier.predict(X[:4])"
   ]
  },
  {
   "cell_type": "code",
   "execution_count": 37,
   "id": "3b963607-a29e-45b2-acb5-b46f95dcf8ae",
   "metadata": {},
   "outputs": [
    {
     "name": "stdout",
     "output_type": "stream",
     "text": [
      "[[52  1]\n",
      " [ 6 84]]\n",
      "[[45  8]\n",
      " [ 1 89]]\n"
     ]
    },
    {
     "name": "stderr",
     "output_type": "stream",
     "text": [
      "/usr/local/lib64/python3.12/site-packages/sklearn/linear_model/_logistic.py:470: ConvergenceWarning: lbfgs failed to converge after 100 iteration(s) (status=1):\n",
      "STOP: TOTAL NO. OF ITERATIONS REACHED LIMIT\n",
      "\n",
      "Increase the number of iterations to improve the convergence (max_iter=100).\n",
      "You might also want to scale the data as shown in:\n",
      "    https://scikit-learn.org/stable/modules/preprocessing.html\n",
      "Please also refer to the documentation for alternative solver options:\n",
      "    https://scikit-learn.org/stable/modules/linear_model.html#logistic-regression\n",
      "  n_iter_i = _check_optimize_result(\n",
      "/usr/local/lib64/python3.12/site-packages/sklearn/linear_model/_logistic.py:470: ConvergenceWarning: lbfgs failed to converge after 100 iteration(s) (status=1):\n",
      "STOP: TOTAL NO. OF ITERATIONS REACHED LIMIT\n",
      "\n",
      "Increase the number of iterations to improve the convergence (max_iter=100).\n",
      "You might also want to scale the data as shown in:\n",
      "    https://scikit-learn.org/stable/modules/preprocessing.html\n",
      "Please also refer to the documentation for alternative solver options:\n",
      "    https://scikit-learn.org/stable/modules/linear_model.html#logistic-regression\n",
      "  n_iter_i = _check_optimize_result(\n"
     ]
    }
   ],
   "source": [
    "from sklearn.datasets import make_classification\n",
    "from sklearn.linear_model import LogisticRegression\n",
    "from sklearn.metrics import confusion_matrix\n",
    "from sklearn.model_selection import FixedThresholdClassifier, train_test_split\n",
    "\n",
    "#X, y = make_classification(\n",
    "#\n",
    "#    n_samples=1_000, weights=[0.9, 0.1], class_sep=0.8, random_state=42\n",
    "#\n",
    "#)\n",
    "\n",
    "#X_train, X_test, y_train, y_test = train_test_split(\n",
    "#\n",
    "#    X, y, stratify=y, random_state=42\n",
    "#\n",
    "#)\n",
    "\n",
    "classifier = LogisticRegression(random_state=0).fit(X_train, y_train)\n",
    "\n",
    "print(confusion_matrix(y_test, classifier.predict(X_test)))\n",
    "\n",
    "\n",
    "classifier_other_threshold = FixedThresholdClassifier(\n",
    "\n",
    "    classifier, threshold=0.1, response_method=\"predict_proba\"\n",
    "\n",
    ").fit(X_train, y_train)\n",
    "\n",
    "print(confusion_matrix(y_test, classifier_other_threshold.predict(X_test)))\n"
   ]
  },
  {
   "cell_type": "code",
   "execution_count": null,
   "id": "4a68c1fb-c202-49d4-98ac-585e8830fc5c",
   "metadata": {},
   "outputs": [],
   "source": []
  }
 ],
 "metadata": {
  "kernelspec": {
   "display_name": "Python 3 (ipykernel)",
   "language": "python",
   "name": "python3"
  },
  "language_info": {
   "codemirror_mode": {
    "name": "ipython",
    "version": 3
   },
   "file_extension": ".py",
   "mimetype": "text/x-python",
   "name": "python",
   "nbconvert_exporter": "python",
   "pygments_lexer": "ipython3",
   "version": "3.12.10"
  }
 },
 "nbformat": 4,
 "nbformat_minor": 5
}
